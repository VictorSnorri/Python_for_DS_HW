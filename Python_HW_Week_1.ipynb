{
 "cells": [
  {
   "cell_type": "code",
   "execution_count": 2,
   "metadata": {},
   "outputs": [
    {
     "name": "stdout",
     "output_type": "stream",
     "text": [
      "hello, python!\n"
     ]
    }
   ],
   "source": [
    "# Exercise 1: Print a Greeting\n",
    "#  Write a Python program that prints a greeting message, such as \"Hello, Python!\".\n",
    "\n",
    "print(\"hello, python!\")"
   ]
  },
  {
   "cell_type": "code",
   "execution_count": 3,
   "metadata": {},
   "outputs": [
    {
     "name": "stdout",
     "output_type": "stream",
     "text": [
      "128\n",
      "-8\n",
      "24\n",
      "8\n"
     ]
    }
   ],
   "source": [
    "# Exercise 2: Basic Arithmetic\n",
    "#  Create a program that:\n",
    "#  Defines two variables, a and b, with numerical values.\n",
    "\n",
    "a = 8\n",
    "b = 16\n",
    "\n",
    "\n",
    "#  Prints their sum, difference, product, and quotient.\n",
    "\n",
    "print(a * b)\n",
    "print(a - b)\n",
    "print(a + b)\n",
    "print(a%b)\n"
   ]
  },
  {
   "cell_type": "code",
   "execution_count": 4,
   "metadata": {},
   "outputs": [
    {
     "name": "stdout",
     "output_type": "stream",
     "text": [
      " Hello, Victor\n"
     ]
    }
   ],
   "source": [
    "# Exercise 3: String Manipulation\n",
    "#  Define a variable name and assign it your name. Write a program that prints a message saying\n",
    "\n",
    "name = 'Victor'\n",
    "\n",
    "#  \"Hello, [name]!\" where [name] is the value of the variable.\n",
    "\n",
    "\n",
    "print(f' Hello, {name}')"
   ]
  },
  {
   "cell_type": "code",
   "execution_count": 5,
   "metadata": {},
   "outputs": [
    {
     "name": "stdout",
     "output_type": "stream",
     "text": [
      "['IE', 'esade', 'UvA', 'USYD', 'VU']\n",
      "IE VU\n"
     ]
    }
   ],
   "source": [
    "# Exercise 4: Lists\n",
    "#  Create a list called universities with at least five different university names.\n",
    "\n",
    "\n",
    "\n",
    "universities = ['IE', 'esade', 'UvA', 'USYD', 'VU']\n",
    "\n",
    "#  Print the entire list.\n",
    "\n",
    "print(universities)\n",
    "\n",
    "#  Print the first and last university in the list.\n",
    "\n",
    "print(universities[0], universities[-1])"
   ]
  },
  {
   "cell_type": "code",
   "execution_count": 6,
   "metadata": {},
   "outputs": [
    {
     "name": "stdout",
     "output_type": "stream",
     "text": [
      "[{'name': 'Victor', 'age': 26}, {'name': 'Noor', 'age': 24}, {'name': 'Gautam', 'age': 22}]\n"
     ]
    }
   ],
   "source": [
    "# Exercise 5: Dictionaries\n",
    "#  Create a dictionary called student with keys: name, age, and grade, and assign appropriate values to each key.\n",
    "\n",
    "students = [\n",
    "            {'name': 'Victor', 'age': 26},\n",
    "            {'name': 'Noor', 'age': 24},\n",
    "            {'name': 'Gautam', 'age': 22}\n",
    "]\n",
    "\n",
    "#  Write a program that prints each key-value pair in the dictionary.\n",
    "\n",
    "print(students)"
   ]
  },
  {
   "cell_type": "code",
   "execution_count": 7,
   "metadata": {},
   "outputs": [
    {
     "name": "stdout",
     "output_type": "stream",
     "text": [
      "(2, 3)\n",
      "2 3\n"
     ]
    }
   ],
   "source": [
    "#Exercise 6: Tuples\n",
    "\n",
    "\n",
    "# Define a tuple called coordinates with two values representing a point in 2D space (e.g., (x, y)).\n",
    "\n",
    "mytuple = (2, 3)\n",
    "\n",
    "# Print the value of coordinates and access each element by its index.\n",
    "\n",
    "print(mytuple)\n",
    "print(mytuple[0], mytuple[1])"
   ]
  },
  {
   "cell_type": "code",
   "execution_count": 8,
   "metadata": {},
   "outputs": [
    {
     "name": "stdout",
     "output_type": "stream",
     "text": [
      "{'green', 'orange', 'blue', 'red'}\n",
      "{'orange', 'blue', 'red'}\n"
     ]
    },
    {
     "data": {
      "text/plain": [
       "{'blue', 'light-blue', 'light-green', 'orange', 'red'}"
      ]
     },
     "execution_count": 8,
     "metadata": {},
     "output_type": "execute_result"
    }
   ],
   "source": [
    "# Exercise 7: Sets\n",
    "#  Create a set called colors with the values: \"red\", \"green\", \"blue\".\n",
    "\n",
    "colors = {'red', 'green', 'blue'}\n",
    "\n",
    "#  Add another color to the set.\n",
    "\n",
    "colors.add('orange')\n",
    "\n",
    "#  Try adding a duplicate color and observe what happens.\n",
    "\n",
    "colors.add('red')\n",
    "\n",
    "#  Print the set and remove one color from it.\n",
    "\n",
    "\n",
    "print(colors)\n",
    "\n",
    "colors.remove('green')\n",
    "\n",
    "print(colors)\n",
    "\n",
    "#  Create another set named light_colors and merge colors and light_colors.\n",
    "\n",
    "light_colors = {'light-blue', 'light-green'}\n",
    "\n",
    "colors.union(light_colors)"
   ]
  },
  {
   "cell_type": "code",
   "execution_count": 9,
   "metadata": {},
   "outputs": [
    {
     "name": "stdout",
     "output_type": "stream",
     "text": [
      "its a positive number!\n"
     ]
    }
   ],
   "source": [
    "# Exercise 8: Conditional Statements\n",
    "#  Write a program that:\n",
    "#  Takes an input number from the user.\n",
    "\n",
    "x = int(input())\n",
    "\n",
    "#  Checks if the number is positive, negative, or zero.\n",
    "#  Prints an appropriate message based on the result\n",
    "\n",
    "if x == 0:\n",
    "    print('its zero!')\n",
    "elif x >= 1:\n",
    "    print('its a positive number!')\n",
    "elif x <= -1:\n",
    "    print('its a negative number!')"
   ]
  },
  {
   "cell_type": "code",
   "execution_count": 12,
   "metadata": {},
   "outputs": [
    {
     "name": "stdout",
     "output_type": "stream",
     "text": [
      "1\n",
      "2\n",
      "3\n",
      "4\n",
      "5\n"
     ]
    }
   ],
   "source": [
    "# Exercise 9: For Loop\n",
    "#  Create a list of numbers from 1 to 5.\n",
    "\n",
    "numbers = [1,2,3,4,5]\n",
    "\n",
    "#  Use a for loop to iterate through the list and print each number.\n",
    "\n",
    "\n",
    "for i in numbers:\n",
    "    print(i)"
   ]
  },
  {
   "cell_type": "code",
   "execution_count": 13,
   "metadata": {},
   "outputs": [
    {
     "name": "stdout",
     "output_type": "stream",
     "text": [
      "1\n",
      "2\n",
      "3\n",
      "4\n",
      "5\n"
     ]
    }
   ],
   "source": [
    "# Exercise 10: While Loop\n",
    "#  Write a program that uses a while loop to print numbers from 1 to 5.\n",
    "#  Ensure the loop terminates correctly.\n",
    "\n",
    "x = 1\n",
    "\n",
    "while x < 6:\n",
    "    print(x)\n",
    "    x = x + 1"
   ]
  },
  {
   "cell_type": "code",
   "execution_count": 14,
   "metadata": {},
   "outputs": [],
   "source": [
    "# Exercise 11: Match Statement (Python 3.10+)\n",
    "#  Write a program that:\n",
    "#  Asks the user to input a grade (e.g., \"A\", \"B\", \"C\", \"D\", or \"F\").\n",
    "\n",
    "letter = input('please write a letter from A - F \\n')\n",
    "\n",
    "#  Use a match statement to print a corresponding message for each grade:\n",
    "#  \"A\": \"Excellent!\"\n",
    "#  \"B\": \"Good job!\"\n",
    "#  \"C\": \"Fair.\"\n",
    "#  \"D\": \"Needs improvement.\"\n",
    "#  \"F\": \"Failing.\"\n",
    "#  Handle invalid input by printing a default message.\n",
    "\n",
    "match letter: \n",
    "    case 'A':\n",
    "        print(\"Excellent!\")\n",
    "    case 'B':\n",
    "        print(\"Good job!\")\n",
    "    case 'C':\n",
    "        print(\"Fair.\")\n",
    "    case 'D':\n",
    "        print(\"Needs improvement.\")\n",
    "    case 'F':\n",
    "        print(\"Failing.\")\n",
    "    case _:\n",
    "        ('thats not an option')\n",
    "        "
   ]
  },
  {
   "cell_type": "code",
   "execution_count": 15,
   "metadata": {},
   "outputs": [
    {
     "name": "stdout",
     "output_type": "stream",
     "text": [
      "hello, Victor\n"
     ]
    }
   ],
   "source": [
    "# Exercise 12: Define a Function\n",
    "#  Write a function called greet that takes a name as an argument and prints \"Hello, [name]!\".\n",
    "\n",
    "\n",
    "def greet(name):\n",
    "    \n",
    "    \n",
    "    print('hello,', name)\n",
    "    \n",
    "#  Call the function with your own name. \n",
    "\n",
    "greet(\"Victor\")\n",
    "\n"
   ]
  },
  {
   "cell_type": "code",
   "execution_count": 16,
   "metadata": {},
   "outputs": [
    {
     "name": "stdout",
     "output_type": "stream",
     "text": [
      "4 81\n"
     ]
    }
   ],
   "source": [
    "# Exercise 13: Function with Return Value\n",
    "#  Define a function called square that takes a number as an argument and returns its square.\n",
    "\n",
    "def square(number):\n",
    "    \n",
    "    return number**2\n",
    "\n",
    "#  Print the result of calling this function with different numbers.\n",
    "\n",
    "square(2)\n",
    "\n",
    "print(square(2), square(9))"
   ]
  },
  {
   "cell_type": "code",
   "execution_count": 17,
   "metadata": {},
   "outputs": [
    {
     "data": {
      "text/plain": [
       "3"
      ]
     },
     "execution_count": 17,
     "metadata": {},
     "output_type": "execute_result"
    }
   ],
   "source": [
    "# Exercise 14: Function with Default Parameters\n",
    "#  Write a function called multiply that takes two parameters, a and b, and returns their product.\n",
    "#  Set a default value of 1 for the parameter b.\n",
    "\n",
    "\n",
    "def multiply(a,b = 1):\n",
    "    return a * b\n",
    "\n",
    "#  Test the function with and without providing the second argument.\n",
    "\n",
    "multiply(3,4)\n",
    "multiply(3)"
   ]
  },
  {
   "cell_type": "code",
   "execution_count": 18,
   "metadata": {},
   "outputs": [
    {
     "name": "stdout",
     "output_type": "stream",
     "text": [
      "[1, 4, 9, 16, 25, 36, 49, 64, 81, 100]\n"
     ]
    }
   ],
   "source": [
    "# Exercise 15: List Comprehension\n",
    "#  Create a list of numbers from 1 to 10.\n",
    "\n",
    "list = [1,2,3,4,5,6,7,8,9,10]\n",
    "\n",
    "#  Use list comprehension to create a new list that contains the squares of these numbers.\n",
    "\n",
    "new_list = []\n",
    "for x in list:\n",
    "    new_list.append(x*x)\n",
    "    \n",
    "#  Print the new list.\n",
    "\n",
    "print(new_list)\n"
   ]
  },
  {
   "cell_type": "code",
   "execution_count": 19,
   "metadata": {},
   "outputs": [
    {
     "name": "stdout",
     "output_type": "stream",
     "text": [
      "7.25\n",
      "4.5\n",
      "8.5\n"
     ]
    }
   ],
   "source": [
    "# Exercise 16: Nested Data Structures\n",
    "#  Create a dictionary where the keys are names of students and the values are lists of their grades.\n",
    "\n",
    "students = {' Robert': [9,5,7,8],\n",
    "            'Alexander': [6,5,4,3],\n",
    "            'Frank': [4,10,10,10]}\n",
    "\n",
    "#  Write a function that takes the dictionary and prints the average grade for each student.\n",
    "\n",
    "def average_grade():\n",
    "    x = students.values()\n",
    "    for i in x:\n",
    "        print(sum(i)/len(i))\n",
    "        \n",
    "average_grade()"
   ]
  },
  {
   "cell_type": "code",
   "execution_count": 20,
   "metadata": {},
   "outputs": [
    {
     "name": "stdout",
     "output_type": "stream",
     "text": [
      "6\n"
     ]
    }
   ],
   "source": [
    "#  Exercise 17: Simple Calculator\n",
    "# Write a program that:\n",
    "# Defines a function calculate which takes three parameters: two numbers and an operator (+, -, *, /).\n",
    "\n",
    "def calculate():\n",
    "    \n",
    "    a = int(input('give me a number '))\n",
    "    b = int(input('another! '))\n",
    "    c = input('now an opperator (+, -, *, /) ')\n",
    "    \n",
    "# Performs the operation and returns the result.\n",
    "# Ask the user for the two numbers and the operator, then call the function and print the result.\n",
    "    \n",
    "    if c == '+':\n",
    "        print(a + b)\n",
    "    elif c == '-':\n",
    "        print(a - b)\n",
    "    elif c == '*':\n",
    "        print(a * b)\n",
    "    elif c == '/':\n",
    "        print(a / b)\n",
    "\n",
    "calculate()\n"
   ]
  }
 ],
 "metadata": {
  "kernelspec": {
   "display_name": "base",
   "language": "python",
   "name": "python3"
  },
  "language_info": {
   "codemirror_mode": {
    "name": "ipython",
    "version": 3
   },
   "file_extension": ".py",
   "mimetype": "text/x-python",
   "name": "python",
   "nbconvert_exporter": "python",
   "pygments_lexer": "ipython3",
   "version": "3.11.7"
  }
 },
 "nbformat": 4,
 "nbformat_minor": 2
}
