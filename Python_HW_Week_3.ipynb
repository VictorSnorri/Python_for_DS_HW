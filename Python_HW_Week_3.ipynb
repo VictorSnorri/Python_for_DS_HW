{
  "cells": [
    {
      "cell_type": "markdown",
      "id": "24b98369-c7ba-450b-a8b5-e34319000695",
      "metadata": {
        "editable": true,
        "id": "24b98369-c7ba-450b-a8b5-e34319000695",
        "tags": []
      },
      "source": [
        "# Python for Data Science\n",
        "## Session 3"
      ]
    },
    {
      "cell_type": "markdown",
      "id": "220f9368-0c1a-4ac8-9785-a33b11e5df77",
      "metadata": {
        "editable": true,
        "id": "220f9368-0c1a-4ac8-9785-a33b11e5df77",
        "tags": []
      },
      "source": [
        "---"
      ]
    },
    {
      "cell_type": "markdown",
      "id": "42f8be9a-cc71-4a58-97ac-1a54219a2d72",
      "metadata": {
        "editable": true,
        "id": "42f8be9a-cc71-4a58-97ac-1a54219a2d72",
        "tags": []
      },
      "source": [
        "## Object Oriented programming\n",
        "### Hands on\n",
        "\n",
        "Let's design a course registration system, where the requirements will be:\n",
        "\n",
        "1. Create a **Course** class, where each course has a name, a description and a list of enrolled students. You'll need to implement the next methods:\n",
        "    - Add a student to the course.\n",
        "    - Remove a student from the course.\n",
        "    - Show all students in the course.\n",
        "    \n",
        "    "
      ]
    },
    {
      "cell_type": "code",
      "execution_count": 4,
      "id": "e5430dcf-a01a-4ea1-aff8-5bad4531ab1e",
      "metadata": {
        "editable": true,
        "id": "e5430dcf-a01a-4ea1-aff8-5bad4531ab1e",
        "tags": []
      },
      "outputs": [
        {
          "ename": "IndentationError",
          "evalue": "unindent does not match any outer indentation level (<tokenize>, line 32)",
          "output_type": "error",
          "traceback": [
            "\u001b[0;36m  File \u001b[0;32m<tokenize>:32\u001b[0;36m\u001b[0m\n\u001b[0;31m    def __repr__(self):  #for courses when in a list\u001b[0m\n\u001b[0m    ^\u001b[0m\n\u001b[0;31mIndentationError\u001b[0m\u001b[0;31m:\u001b[0m unindent does not match any outer indentation level\n"
          ]
        }
      ],
      "source": [
        "class Course:\n",
        "    # Create a Course class\n",
        "    def __init__(self, name, course_type):\n",
        "        self.name = name\n",
        "        self.course_type = course_type\n",
        "        self.students = list()\n",
        "\n",
        "\n",
        "    def add_student(self, student):\n",
        "        #add a student\n",
        "        self.students.append(student)\n",
        "        print(f'{student} has been added to {self.name}')\n",
        "    \n",
        "    def remove_student(self, student):\n",
        "        \n",
        "        if student in self.students: #check whether student is in course, if so remove\n",
        "            self.students.remove(student)\n",
        "            print(f'{student} has been removed from {self.name}')\n",
        "\n",
        "        else: #if not let user know\n",
        "            print('Student is not in Course')\n",
        "\n",
        "    def show_all(self): #Show students in Course\n",
        "        if len(self.students) == 1:\n",
        "            print(f'{self.students} are enrolled in {self.name}') #if only 1 student is enrolled use \"is\"\n",
        "        else:\n",
        "            print(f'{self.students} is enrolled in {self.name}') #otherwise use \"are\"\n",
        "\n",
        "    def __str__(self): #create a string calling the course name\n",
        "        return f\"{self.name} \"\n",
        "    \n",
        "     def __repr__(self):  #for courses when in a list\n",
        "        return f\"{self.name}\"\n"
      ]
    },
    {
      "cell_type": "code",
      "execution_count": 2,
      "id": "3ded1f0d",
      "metadata": {},
      "outputs": [
        {
          "name": "stdout",
          "output_type": "stream",
          "text": [
            "Micheal has been added to Python\n",
            "Victor has been added to Python\n",
            "['Micheal', 'Victor'] is enrolled in Python\n",
            "Micheal has been removed from Python\n",
            "['Victor'] are enrolled in Python\n"
          ]
        }
      ],
      "source": [
        "#Checks\n",
        "\n",
        "# create 2 course of class  Course\n",
        "Course_1 = Course('Python', 'Coding')\n",
        "Course_2 = Course('AI', 'Coding')\n",
        "\n",
        "# add students to course\n",
        "Course_1.add_student('Micheal')\n",
        "Course_1.add_student('Victor')\n",
        "\n",
        "#show students\n",
        "Course.show_all(Course_1)\n",
        "\n",
        "#remove student\n",
        "Course_1.remove_student('Micheal')\n",
        "\n",
        "#show students again after using the remove_student method\n",
        "Course.show_all(Course_1)\n",
        "\n",
        "\n"
      ]
    },
    {
      "cell_type": "markdown",
      "id": "16cc578c-9fe3-4478-81da-3071e3adb318",
      "metadata": {
        "editable": true,
        "id": "16cc578c-9fe3-4478-81da-3071e3adb318",
        "tags": []
      },
      "source": [
        "## Object Oriented programming\n",
        "### Hands on\n",
        "\n",
        "2. Create a **Student** class, where each student has a name, ID number, address and a list of enrolled courses with the following methods:\n",
        "    - Enroll in a course.\n",
        "    - Drop a course.\n",
        "    - Show all registered student courses."
      ]
    },
    {
      "cell_type": "code",
      "execution_count": 3,
      "id": "fe4cce31-1ddf-4847-bc8d-924dc3e0dfe1",
      "metadata": {
        "editable": true,
        "id": "fe4cce31-1ddf-4847-bc8d-924dc3e0dfe1",
        "tags": []
      },
      "outputs": [],
      "source": [
        "class Student:\n",
        "    #create a student\n",
        "    def __init__(self, name, student_id, adress):\n",
        "        self.name = name\n",
        "        self.student_id = student_id\n",
        "        self.adress = adress\n",
        "        self.enrolled_courses = []\n",
        "        self.grades = {} #dictionary for grades \n",
        "        \n",
        "    def enroll(self, course):\n",
        "        #check if student is already enrolledcourse\n",
        "        if course in self.enrolled_courses:\n",
        "            print(f'{self.name} is already enrolled in this course')\n",
        "\n",
        "        #if not enroll in course\n",
        "        else: \n",
        "            self.enrolled_courses.append(course)\n",
        "            print(f'{self.name} has been enrolled in {course}')\n",
        "        \n",
        "    def drop(self, course):\n",
        "        #check if student is enrolled in course, if so, remove\n",
        "        if course in self.enrolled_courses:\n",
        "            self.enrolled_courses.remove(course)\n",
        "            print(f'{course} has been removed')\n",
        "        #otherwise let user know student is not enrolled in course\n",
        "        else:\n",
        "            print(f'{self.name} is not enrolled in this course')   \n",
        "        \n",
        "    def show_courses(self): #show courses\n",
        "        print(f'{self.name} is enrolled in: {self.enrolled_courses}')\n",
        "\n",
        "    def __str__(self):  #create a string calling the student name\n",
        "        return f\"{self.name}\"\n",
        "    \n",
        "    \n",
        "    # exercise 4\n",
        "    def add_grade(self, course, grade): \n",
        "         self.grades[course] = grade \n",
        "\n",
        "    def GPA(self):\n",
        "        total_score = sum(self.grades.values())\n",
        "        gpa = total_score / len(self.enrolled_courses)\n",
        "        print(f\"{self.name}'s GPA is {gpa}\")\n",
        "\n",
        "\n",
        "\n"
      ]
    },
    {
      "cell_type": "code",
      "execution_count": 4,
      "id": "aedf3f5a",
      "metadata": {},
      "outputs": [
        {
          "name": "stdout",
          "output_type": "stream",
          "text": [
            "Victor has been enrolled in Python\n",
            "Victor has been enrolled in Spanish\n",
            "Python has been removed\n",
            "Spanish has been removed\n",
            "Victor is enrolled in: []\n"
          ]
        }
      ],
      "source": [
        "#Checks\n",
        "\n",
        "Student_1 = Student('Victor', 'S01' , 'Passatge de Sant Pere 15 2-5')\n",
        "Student_2 = Student('Noor', 'S02', 'Passatge de Sant Pere 15 2-5')\n",
        "Student_1.enroll('Python')\n",
        "Student_1.enroll('Spanish')\n",
        "Student_1.drop('Python')\n",
        "Student_1.drop('Spanish')\n",
        "Student_1.show_courses()\n",
        "\n",
        "\n",
        "\n"
      ]
    },
    {
      "cell_type": "markdown",
      "id": "5c54b2fe-691f-4520-b8d6-2515ba92b808",
      "metadata": {
        "editable": true,
        "id": "5c54b2fe-691f-4520-b8d6-2515ba92b808",
        "tags": []
      },
      "source": [
        "## Object Oriented programming\n",
        "### Hands on\n",
        "\n",
        "3. Create a central class that manages courses and students, **Registration** class, where you have a list of students and a list of courses, and methods:\n",
        "    - Enroll in a course.\n",
        "    - Drop a course.\n",
        "    - Show all the enrolled courses.\n",
        "    - Show all the students."
      ]
    },
    {
      "cell_type": "code",
      "execution_count": 5,
      "id": "863f30c7-3cf8-4ac9-8599-e7df8e0d483c",
      "metadata": {
        "editable": true,
        "id": "863f30c7-3cf8-4ac9-8599-e7df8e0d483c",
        "tags": []
      },
      "outputs": [],
      "source": [
        "\n",
        "class Registration:\n",
        "    def __init__(self):\n",
        "        #create two lists for course and students\n",
        "        self.courses = []\n",
        "        self.students = []\n",
        "\n",
        "    def add_student(self, student):\n",
        "        #add student to registration\n",
        "        self.students.append(student)\n",
        "        print(f'{student.name} is added to registration')\n",
        "    \n",
        "    def add_course(self, course):\n",
        "        #add course to registration\n",
        "        self.courses.append(course)\n",
        "        print(f'{course.name} is added to registration')\n",
        "\n",
        "    def enroll_student_in_course(self, student, course):\n",
        "        # Check if the student is in the registration system\n",
        "        if student not in self.students:\n",
        "            print(f\"{student.name} needs to be added to the registration first\")\n",
        "             \n",
        "        \n",
        "        # Check if the course is in the registration system\n",
        "        elif course not in self.courses:\n",
        "            print(f\"{course.name}, needs to be added to the registration first\")\n",
        "           \n",
        "\n",
        "        # Enroll student in the course if checks pass \n",
        "        else:\n",
        "            student.enroll(course)\n",
        "            course.add_student(student)\n",
        "\n",
        "    def drop_course(self, student, course):\n",
        "        # Check if the student is in the registration system and drop course\n",
        "        if student in self.students and course in self.courses:\n",
        "            student.drop(course)\n",
        "            course.remove_student(student)\n",
        "            print(f'{student.name} has been added to {course.name}')\n",
        "\n",
        "        else:\n",
        "        #let user know student or course are not in registration\n",
        "             print(f'{student.name} or {course.name} is not in registration')\n",
        "\n",
        "\n",
        "    def show_enrolled_courses(self):\n",
        "        #show courses in registration\n",
        "        for course in self.courses:\n",
        "                print(f\"- {course.name}\")\n",
        "\n",
        "\n",
        "    def show_students(self):\n",
        "        #show students in registration\n",
        "        for student in self.students:\n",
        "                print(f\"- {student.name} (ID: {student.student_id})\")\n",
        "       \n",
        "\n",
        "\n",
        "\n"
      ]
    },
    {
      "cell_type": "code",
      "execution_count": 6,
      "id": "79c8c2b8",
      "metadata": {},
      "outputs": [
        {
          "name": "stdout",
          "output_type": "stream",
          "text": [
            "Python is added to registration\n",
            "Victor is added to registration\n",
            "Noor needs to be added to the registration first\n",
            "Noor is added to registration\n",
            "AI is added to registration\n",
            "Noor has been enrolled in AI \n",
            "Noor has been added to AI\n",
            "- Python\n",
            "- AI\n",
            "- Victor (ID: S01)\n",
            "- Noor (ID: S02)\n",
            "Gautam or BIS is not in registration\n",
            "Victor is not enrolled in this course\n",
            "Student is not in Course\n",
            "Victor has been added to Python\n"
          ]
        }
      ],
      "source": [
        "\n",
        "#Checks\n",
        "\n",
        "#  adding new students to make checks\n",
        "Student_3 = Student('Gautam', 'S02' , 'Passatge de Sant Pere 15 2-5')\n",
        "Course_3 = Course('BIS', 'Sutainability')\n",
        "\n",
        "#create a new registration \n",
        "registration = Registration()\n",
        "\n",
        "#add Course and Student to registration\n",
        "registration.add_course(Course_1)\n",
        "registration.add_student(Student_1)\n",
        "\n",
        "#check what happens when enrolling a student that is not in the registration\n",
        "registration.enroll_student_in_course(Student_2,Course_2)\n",
        "\n",
        "#adding second student to registration\n",
        "registration.add_student(Student_2)\n",
        "registration.add_course(Course_2)\n",
        "\n",
        "#enrolling second student (Noor) to second course (AI) where Noor is already enrolled in previous exercise\n",
        "registration.enroll_student_in_course(Student_2,Course_2)\n",
        "\n",
        "registration.show_enrolled_courses()\n",
        "registration.show_students()\n",
        "\n",
        "#drop a student from a course they were not enrolled in\n",
        "registration.drop_course(Student_3,Course_3)\n",
        "\n",
        "#drop a student from course they were enrolled in (in previous exercise)\n",
        "registration.drop_course(Student_1,Course_1)\n",
        "\n",
        "\n",
        "\n"
      ]
    },
    {
      "cell_type": "markdown",
      "id": "2958b01b-3472-4c95-ae1f-771edc638749",
      "metadata": {
        "editable": true,
        "id": "2958b01b-3472-4c95-ae1f-771edc638749",
        "tags": []
      },
      "source": [
        "## Object Oriented programming\n",
        "### Howework\n",
        "\n",
        "4. Let's add grades to each student's course and create method that yields the GPA given a student name or ID."
      ]
    },
    {
      "cell_type": "code",
      "execution_count": 7,
      "id": "669c4af3",
      "metadata": {},
      "outputs": [
        {
          "name": "stdout",
          "output_type": "stream",
          "text": [
            "Gautam is added to registration\n",
            "BIS is added to registration\n",
            "Gautam has been enrolled in Python \n",
            "Gautam has been added to Python\n",
            "Gautam has been enrolled in AI \n",
            "Gautam has been added to AI\n",
            "Gautam has been enrolled in BIS \n",
            "Gautam has been added to BIS\n",
            "Gautam is enrolled in: [<__main__.Course object at 0x11223b690>, <__main__.Course object at 0x11223b7d0>, <__main__.Course object at 0x11223b810>]\n",
            "Gautam's GPA is 61.666666666666664\n"
          ]
        }
      ],
      "source": [
        "#for methods see Student Class\n",
        "#pre-process for checking methods\n",
        "registration.add_student(Student_3)\n",
        "registration.add_course(Course_3)\n",
        "registration.enroll_student_in_course(Student_3,Course_1)\n",
        "registration.enroll_student_in_course(Student_3,Course_2)\n",
        "registration.enroll_student_in_course(Student_3,Course_3)\n",
        "Student_3.show_courses()\n",
        "\n",
        "Student_3.add_grade(Course_1,65)\n",
        "Student_3.add_grade(Course_2,80)\n",
        "Student_3.add_grade(Course_3,40)\n",
        "\n",
        "Student_3.GPA()"
      ]
    },
    {
      "cell_type": "markdown",
      "id": "76c565a9-dc30-464c-980d-d522cd5246f4",
      "metadata": {
        "editable": true,
        "id": "76c565a9-dc30-464c-980d-d522cd5246f4",
        "tags": []
      },
      "source": [
        "## That's all!"
      ]
    }
  ],
  "metadata": {
    "colab": {
      "provenance": []
    },
    "kernelspec": {
      "display_name": "Python 3 (ipykernel)",
      "language": "python",
      "name": "python3"
    },
    "language_info": {
      "codemirror_mode": {
        "name": "ipython",
        "version": 3
      },
      "file_extension": ".py",
      "mimetype": "text/x-python",
      "name": "python",
      "nbconvert_exporter": "python",
      "pygments_lexer": "ipython3",
      "version": "3.11.7"
    }
  },
  "nbformat": 4,
  "nbformat_minor": 5
}
