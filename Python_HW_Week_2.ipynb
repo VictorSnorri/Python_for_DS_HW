{
 "cells": [
  {
   "cell_type": "code",
   "execution_count": 9,
   "metadata": {},
   "outputs": [],
   "source": [
    "# Exercise 1: FizzBuzz\n",
    "# Write a FizzBuzz Function: Create a function fizzbuzz(n) that takes an integer n as a parameter.\n",
    "\n",
    "\n",
    "def FizzBuzz(n):\n",
    "    # \"FizzBuzz\" for multiples of both 3 and 5\n",
    "    if n%3 == 0 and  n %5 == 0:\n",
    "        print(\"FizzBuzz\")\n",
    "\n",
    "    # \"Buzz\" for multiples of 5\n",
    "    elif n %5 == 0:\n",
    "        print(\"Buzz\")\n",
    "\n",
    "    # \"Fizz\" for multiples of 3\n",
    "    elif n %3 == 0:\n",
    "        print(\"Fizz\")\n",
    "\n",
    "    # The number itself for other number\n",
    "    else:\n",
    "        print(n)\n",
    "        \n"
   ]
  },
  {
   "cell_type": "code",
   "execution_count": 10,
   "metadata": {},
   "outputs": [
    {
     "name": "stdout",
     "output_type": "stream",
     "text": [
      "1\n",
      "2\n",
      "Fizz\n",
      "4\n",
      "Buzz\n",
      "Fizz\n",
      "7\n",
      "8\n",
      "Fizz\n",
      "Buzz\n",
      "11\n",
      "Fizz\n",
      "13\n",
      "14\n",
      "FizzBuzz\n",
      "16\n",
      "17\n",
      "Fizz\n",
      "19\n",
      "Buzz\n"
     ]
    }
   ],
   "source": [
    "# Call the Function: Call the function for numbers 1 to 20.\n",
    "for i in range(1,21):\n",
    "    FizzBuzz(i)\n",
    "    "
   ]
  },
  {
   "cell_type": "code",
   "execution_count": 11,
   "metadata": {},
   "outputs": [
    {
     "name": "stdout",
     "output_type": "stream",
     "text": [
      "The integers in your list are: [8, 108]\n"
     ]
    }
   ],
   "source": [
    "# Exercise 2: Basic Data Filtering\n",
    "#. Create a List of Mixed Data Types: Create a list that contains a mix of integers, strings, and floats.\n",
    "\n",
    "\n",
    "list = [8, 'five', 9.3, 'beez', 5.56, 'letter', 108]\n",
    "int_list = []\n",
    "\n",
    "#. Filter the List: Use list comprehension to create a new list that contains only the integers from the original list.\n",
    "\n",
    "\n",
    "for i in list:\n",
    "    if type(i) == int:\n",
    "        int_list.append(i)\n",
    "\n",
    "#. Print the New List: Output the filtered list of integers\n",
    "print('The integers in your list are:', int_list)\n"
   ]
  },
  {
   "cell_type": "code",
   "execution_count": 12,
   "metadata": {},
   "outputs": [],
   "source": [
    "# Exercise 3: Simple To-Do List\n",
    "# Create an Empty List: Start with an empty list called todo_list.\n",
    "\n",
    "todo_list = []\n",
    "\n",
    "# Define Functions:\n",
    "# A function add_task(task) that adds a task to the list.\n",
    "\n",
    "def add_task(task):\n",
    "    todo_list.append(str(task))\n",
    "\n",
    "# A function show_tasks() that prints all tasks in the list\n",
    "def show_task():\n",
    "    print('your taks are:')\n",
    "    for i in todo_list:\n",
    "        print(i)\n",
    "\n",
    "\n",
    "\n",
    "\n"
   ]
  },
  {
   "cell_type": "code",
   "execution_count": 13,
   "metadata": {},
   "outputs": [],
   "source": [
    "add_task('walking')\n",
    "add_task('hiking')\n"
   ]
  },
  {
   "cell_type": "code",
   "execution_count": 14,
   "metadata": {},
   "outputs": [
    {
     "name": "stdout",
     "output_type": "stream",
     "text": [
      "your taks are:\n",
      "walking\n",
      "hiking\n"
     ]
    }
   ],
   "source": [
    "show_task()"
   ]
  },
  {
   "cell_type": "code",
   "execution_count": 15,
   "metadata": {},
   "outputs": [],
   "source": [
    "#Exercise 4: Temperature Converter\n",
    "# Define a Conversion Function: Write a function celsius_to_fahrenheit(celsius) that converts Celsius to Fahrenheit.\n",
    "\n",
    "def celsius_to_fahrenheit(Celsius):\n",
    "    Fahrenheit = (Celsius* 1.8) + 32\n",
    "    return Fahrenheit\n",
    "\n"
   ]
  },
  {
   "cell_type": "code",
   "execution_count": 16,
   "metadata": {},
   "outputs": [
    {
     "name": "stdout",
     "output_type": "stream",
     "text": [
      "71.6\n",
      "114.8\n",
      "123.8\n",
      "168.8\n"
     ]
    }
   ],
   "source": [
    "\n",
    "# Print the Result: Output the converted temperature for 22ºF, 46ºF, 51ºF and 76ºF.\n",
    "print(celsius_to_fahrenheit(22))\n",
    "print(celsius_to_fahrenheit(46))\n",
    "print(celsius_to_fahrenheit(51))\n",
    "print(celsius_to_fahrenheit(76))"
   ]
  }
 ],
 "metadata": {
  "kernelspec": {
   "display_name": "base",
   "language": "python",
   "name": "python3"
  },
  "language_info": {
   "codemirror_mode": {
    "name": "ipython",
    "version": 3
   },
   "file_extension": ".py",
   "mimetype": "text/x-python",
   "name": "python",
   "nbconvert_exporter": "python",
   "pygments_lexer": "ipython3",
   "version": "3.11.7"
  }
 },
 "nbformat": 4,
 "nbformat_minor": 2
}
